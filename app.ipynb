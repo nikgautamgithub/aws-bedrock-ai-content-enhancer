{
 "cells": [
  {
   "cell_type": "code",
   "execution_count": null,
   "metadata": {},
   "outputs": [],
   "source": [
    "# Install necessary packages\n",
    "%pip install -r requirements.txt  # Ensure you have the required packages"
   ]
  },
  {
   "cell_type": "code",
   "execution_count": null,
   "metadata": {},
   "outputs": [],
   "source": [
    "# Import required libraries\n",
    "import pandas as pd\n",
    "import boto3\n",
    "import json"
   ]
  },
  {
   "cell_type": "code",
   "execution_count": null,
   "metadata": {},
   "outputs": [],
   "source": [
    "# Configuration Section\n",
    "# ---------------------\n",
    "config = {\n",
    "    'aws_region': 'ap-south-1', #your aws region\n",
    "    'aws_access_key_id': 'your-access-key-id',\n",
    "    'aws_secret_access_key': 'your-secret-access-key',\n",
    "    'model_id': 'your-model-id', #eg: anthropic.claude-3-sonnet-20240229-v1:0\n",
    "    'input_file': 'input_food_data.xlsx', # upload your file in source folder  eg; food_data.xlsx\n",
    "    'output_file': 'updated_food_data.xlsx',\n",
    "    'column_name': 'Shrt_Desc', # column on which you want to perform enhancements\n",
    "    'prompt_template': 'Provide a concise and descriptive title for the following food item. Only provide the title, without any additional text: {short_desc}' # promt\n",
    "}\n"
   ]
  },
  {
   "cell_type": "code",
   "execution_count": null,
   "metadata": {},
   "outputs": [],
   "source": [
    "# Initialize the boto3 client for Bedrock\n",
    "bedrock = boto3.client(\n",
    "    service_name='bedrock-runtime',\n",
    "    region_name=config['aws_region'],\n",
    "    aws_access_key_id=config['aws_access_key_id'],\n",
    "    aws_secret_access_key=config['aws_secret_access_key'],\n",
    ")"
   ]
  },
  {
   "cell_type": "code",
   "execution_count": null,
   "metadata": {},
   "outputs": [],
   "source": [
    "# Load data from an Excel file\n",
    "data = pd.read_excel(config['input_file'])\n",
    "\n",
    "# Select the relevant column\n",
    "data_sample = data[config['column_name']]\n",
    "print(data_sample.head())  # Print the first few rows for verification"
   ]
  },
  {
   "cell_type": "code",
   "execution_count": null,
   "metadata": {},
   "outputs": [],
   "source": [
    "# Function to generate a title using Bedrock\n",
    "def generate_detailed_description(short_desc):\n",
    "    try:\n",
    "        prompt = config['prompt_template'].format(short_desc=short_desc)\n",
    "        response = bedrock.invoke_model(\n",
    "            modelId=config['model_id'],\n",
    "            body=json.dumps({\n",
    "                \"anthropic_version\": \"bedrock-2023-05-31\",\n",
    "                \"max_tokens\": 60,\n",
    "                \"messages\": [\n",
    "                    {\n",
    "                        \"role\": \"user\",\n",
    "                        \"content\": prompt\n",
    "                    }\n",
    "                ]\n",
    "            }),\n",
    "            contentType=\"application/json\",\n",
    "            accept=\"application/json\"\n",
    "        )\n",
    "\n",
    "        # Parse the response\n",
    "        response_body = json.loads(response['body'].read())\n",
    "        response_text = response_body['content'][0]['text'].strip()\n",
    "\n",
    "        return response_text\n",
    "\n",
    "    except Exception as e:\n",
    "        print(f\"Error in generate_description: {str(e)}\")\n",
    "        return \"Error generating description\""
   ]
  },
  {
   "cell_type": "code",
   "execution_count": null,
   "metadata": {},
   "outputs": [],
   "source": [
    "# Apply the function to the selected column\n",
    "data['Title'] = data_sample.apply(generate_detailed_description)"
   ]
  },
  {
   "cell_type": "code",
   "execution_count": null,
   "metadata": {},
   "outputs": [],
   "source": [
    "print(data.head())  # Print the first few rows of the updated data for verification\n",
    "\n",
    "# Save the updated data to a new Excel file\n",
    "data.to_excel(config['output_file'], index=False)"
   ]
  }
 ],
 "metadata": {
  "kernelspec": {
   "display_name": "Python 3",
   "language": "python",
   "name": "python3"
  },
  "language_info": {
   "codemirror_mode": {
    "name": "ipython",
    "version": 3
   },
   "file_extension": ".py",
   "mimetype": "text/x-python",
   "name": "python",
   "nbconvert_exporter": "python",
   "pygments_lexer": "ipython3",
   "version": "3.12.4"
  }
 },
 "nbformat": 4,
 "nbformat_minor": 2
}
